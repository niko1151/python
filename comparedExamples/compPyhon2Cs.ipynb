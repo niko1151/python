{
 "cells": [
  {
   "cell_type": "markdown",
   "source": [
    "# Sammenlignende eksempler fra Python og C#\r\n",
    "\r\n",
    "Her vises grundlæggende programsyntaks i python og c#. \r\n",
    "Fokus er på \r\n",
    "* variabler, \r\n",
    "* aritmetik, \r\n",
    "* forgreninger,\r\n",
    "* løkker,\r\n",
    "* datastrukturer\r\n",
    "  * lister,\r\n",
    "  * dictionaties,\r\n",
    "  * tupler (måske)"
   ],
   "metadata": {}
  },
  {
   "cell_type": "markdown",
   "source": [
    "## Simpel variabel\r\n",
    "\r\n",
    "Først laver jeg en simpel variabel `navn` i Python (som jo er uden type dekleration). Typen knyttes til værdien \"Søren\", som er `str`.\r\n",
    "\r\n",
    "Så gør jeg nogen (næsten) tilsvarende i C#.\r\n",
    "Jeg erklærer variablen `navn`, med typen `var`. Det vil sige at typen afledes af værdiens type. Her `string`."
   ],
   "metadata": {}
  },
  {
   "cell_type": "code",
   "execution_count": null,
   "source": [
    "navn =\"Søren\"\r\n",
    "print(navn)"
   ],
   "outputs": [
    {
     "output_type": "stream",
     "name": "stdout",
     "text": [
      "Søren\n"
     ]
    }
   ],
   "metadata": {
    "dotnet_interactive": {
     "language": "csharp"
    }
   }
  },
  {
   "cell_type": "code",
   "execution_count": null,
   "source": [
    "var navn = \"Søren\";\r\n",
    "Console.WriteLine(navn);\r\n"
   ],
   "outputs": [
    {
     "output_type": "stream",
     "name": "stdout",
     "text": [
      "Søren\r\n"
     ]
    }
   ],
   "metadata": {
    "dotnet_interactive": {
     "language": "csharp"
    }
   }
  },
  {
   "cell_type": "markdown",
   "source": [
    "Nu skal vi prøve om vi kan skrive et tal ind i variblen navn:"
   ],
   "metadata": {}
  },
  {
   "cell_type": "code",
   "execution_count": null,
   "source": [
    "navn = 42\r\n",
    "print(navn)\r\n",
    "print(type(navn))"
   ],
   "outputs": [
    {
     "output_type": "stream",
     "name": "stdout",
     "text": [
      "42\n",
      "<class 'int'>\n"
     ]
    }
   ],
   "metadata": {
    "dotnet_interactive": {
     "language": "csharp"
    }
   }
  },
  {
   "cell_type": "code",
   "execution_count": null,
   "source": [
    "navn = 42;\r\n",
    "Console.WriteLine(navn);"
   ],
   "outputs": [
    {
     "output_type": "error",
     "ename": "Error",
     "evalue": "(1,8): error CS0029: Cannot implicitly convert type 'int' to 'string'",
     "traceback": [
      "(1,8): error CS0029: Cannot implicitly convert type 'int' to 'string'"
     ]
    }
   ],
   "metadata": {
    "dotnet_interactive": {
     "language": "csharp"
    }
   }
  },
  {
   "cell_type": "markdown",
   "source": [
    "Men det går ikke så godt i C#. Hvis det skal gå, må vi lave en eksplicit type konvertering. Det er enten et typecast eller en egentlig konvertering."
   ],
   "metadata": {}
  },
  {
   "cell_type": "markdown",
   "source": [
    "### typekonvertering"
   ],
   "metadata": {}
  },
  {
   "cell_type": "code",
   "execution_count": null,
   "source": [
    "navn = 42.ToString();\r\n",
    "Console.WriteLine(navn);"
   ],
   "outputs": [
    {
     "output_type": "stream",
     "name": "stdout",
     "text": [
      "42\r\n"
     ]
    }
   ],
   "metadata": {
    "dotnet_interactive": {
     "language": "csharp"
    }
   }
  },
  {
   "cell_type": "code",
   "execution_count": null,
   "source": [
    "# det kan man dat også i python:\r\n",
    "navn = str(42)\r\n",
    "print(navn)\r\n",
    "type(navn)"
   ],
   "outputs": [
    {
     "output_type": "stream",
     "name": "stdout",
     "text": [
      "42\n"
     ]
    },
    {
     "output_type": "execute_result",
     "data": {
      "text/plain": [
       "str"
      ]
     },
     "metadata": {},
     "execution_count": 5
    }
   ],
   "metadata": {
    "dotnet_interactive": {
     "language": "csharp"
    }
   }
  }
 ],
 "metadata": {
  "orig_nbformat": 4,
  "language_info": {
   "file_extension": ".cs",
   "mimetype": "text/x-csharp",
   "name": "python",
   "pygments_lexer": "csharp",
   "version": "3.9.5"
  },
  "kernelspec": {
   "name": "python3",
   "display_name": "Python 3.9.5 64-bit (windows store)"
  },
  "interpreter": {
   "hash": "2dc10d31d0ec187177829adc13501e270ce516ec771d04ac1adf58084ae2747a"
  }
 },
 "nbformat": 4,
 "nbformat_minor": 2
}